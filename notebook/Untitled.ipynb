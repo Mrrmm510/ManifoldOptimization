{
 "cells": [
  {
   "cell_type": "code",
   "execution_count": 1,
   "metadata": {},
   "outputs": [],
   "source": [
    "from abc import ABCMeta, abstractmethod\n",
    "\n",
    "import numpy as np\n",
    "import matplotlib.pyplot as plt"
   ]
  },
  {
   "cell_type": "code",
   "execution_count": 2,
   "metadata": {},
   "outputs": [],
   "source": [
    "class GradientDescent(metaclass=ABCMeta):\n",
    "    def __init__(self, max_iter: int = 300, extended_output: bool = False):\n",
    "        self.max_iter = max_iter\n",
    "        self.extended_output = extended_output\n",
    "        self.f = list()\n",
    "    \n",
    "    @abstractmethod\n",
    "    def _f(self, x: np.ndarray):\n",
    "        raise NotImplementedError('The function _f is not implemented')\n",
    "        \n",
    "    @abstractmethod\n",
    "    def _df(self, x: np.ndarray):\n",
    "        raise NotImplementedError('The function _df is not implemented')\n",
    "        \n",
    "    @abstractmethod\n",
    "    def _step_size(self, iteration: int):\n",
    "        raise NotImplementedError('The function _step_size is not implemented')\n",
    "        \n",
    "    @abstractmethod\n",
    "    def _retraction(self, x: np.ndarray):\n",
    "        raise NotImplementedError('The function _retraction is not implemented')\n",
    "        \n",
    "    def optimize(self, x: np.ndarray):\n",
    "        res = np.copy(x)\n",
    "        if self.extended_output:\n",
    "            self.f.append(self._f(res))\n",
    "        for i in range(1, self.max_iter + 1):\n",
    "            res -= self._df(res) * self._step_size(i)\n",
    "            res = self._retraction(res)\n",
    "            if self.extended_output:\n",
    "                self.f.append(self._f(res))\n",
    "        return res\n",
    "    \n",
    "\n",
    "class RayleighQuotient(GradientDescent):\n",
    "    def __init__(self, A: np.ndarray, step_size: float = 1.0, max_iter: int = 300, extended_output: bool = False):\n",
    "        super().__init__(max_iter=max_iter, extended_output=extended_output)\n",
    "        self.A = A\n",
    "        self.step_size = step_size\n",
    "        \n",
    "    def _f(self, x: np.ndarray) -> float:\n",
    "        Ax = np.dot(self.A, x)\n",
    "        xx = np.dot(x, x)\n",
    "        return np.dot(Ax, x) / xx\n",
    "    \n",
    "    def _df(self, x: np.ndarray) -> np.ndarray:\n",
    "        Ax = np.dot(self.A, x)\n",
    "        xx = np.dot(x, x)\n",
    "        f = np.dot(Ax, x) / xx\n",
    "        return 2 * (Ax - f * x) / xx\n",
    "    \n",
    "    def _step_size(self, iteration: int) -> float:\n",
    "        return self.step_size\n",
    "    \n",
    "    def _retraction(self, x: np.ndarray) -> np.ndarray:\n",
    "        return x\n",
    "\n",
    "\n",
    "class RayleighQuotientSphere(GradientDescent):\n",
    "    def __init__(self, A: np.ndarray, step_size: float = 1.0, max_iter: int = 300, extended_output: bool = False):\n",
    "        super().__init__(max_iter=max_iter, extended_output=extended_output)\n",
    "        self.A = A\n",
    "        self.step_size = step_size\n",
    "        \n",
    "    def _f(self, x: np.ndarray) -> float:\n",
    "        Ax = np.dot(self.A, x)\n",
    "        return np.dot(Ax, x)\n",
    "    \n",
    "    def _df(self, x: np.ndarray) -> np.ndarray:\n",
    "        Ax = np.dot(self.A, x)\n",
    "        f = np.dot(Ax, x)\n",
    "        return 2 * (Ax - f * x)\n",
    "    \n",
    "    def _step_size(self, iteration: int) -> float:\n",
    "        return self.step_size\n",
    "    \n",
    "    def _retraction(self, x: np.ndarray) -> np.ndarray:\n",
    "        norm = np.linalg.norm(x)\n",
    "        return x / norm if norm != 0 else 0"
   ]
  },
  {
   "cell_type": "code",
   "execution_count": 3,
   "metadata": {},
   "outputs": [],
   "source": [
    "A = np.array([[2, 1], [1, 2]], dtype=float)\n",
    "x0 = np.array([1, 0], dtype=float)\n",
    "step_size = 0.01\n",
    "max_iter = 1000\n",
    "size = 1000\n",
    "\n",
    "A = np.random.randn(size, size)\n",
    "A = np.dot(A, A.T)\n",
    "x0 = np.random.randn(size)\n",
    "x0 /= np.linalg.norm(x0)\n",
    "\n",
    "rq = RayleighQuotient(A=A, step_size=step_size, max_iter=max_iter, extended_output=True)\n",
    "rqs = RayleighQuotientSphere(A=A, step_size=step_size, max_iter=max_iter, extended_output=True)\n",
    "\n",
    "res1 = rq.optimize(x0)\n",
    "res2 = rqs.optimize(x0)"
   ]
  },
  {
   "cell_type": "code",
   "execution_count": 4,
   "metadata": {},
   "outputs": [
    {
     "data": {
      "image/png": "[encoded data removed]",
      "text/plain": [
       "<Figure size 432x288 with 1 Axes>"
      ]
     },
     "metadata": {
      "needs_background": "light"
     },
     "output_type": "display_data"
    }
   ],
   "source": [
    "plt.plot(rq.f, 'b', label='GD')\n",
    "plt.plot(rqs.f, 'r', label='GD on Sphere')\n",
    "plt.grid(True)\n",
    "plt.xlabel('iterations')\n",
    "plt.ylabel('f')\n",
    "plt.legend()\n",
    "plt.show()"
   ]
  },
  {
   "cell_type": "code",
   "execution_count": null,
   "metadata": {},
   "outputs": [],
   "source": []
  }
 ],
 "metadata": {
  "kernelspec": {
   "display_name": "Python 3",
   "language": "python",
   "name": "python3"
  },
  "language_info": {
   "codemirror_mode": {
    "name": "ipython",
    "version": 3
   },
   "file_extension": ".py",
   "mimetype": "text/x-python",
   "name": "python",
   "nbconvert_exporter": "python",
   "pygments_lexer": "ipython3",
   "version": "3.7.3"
  }
 },
 "nbformat": 4,
 "nbformat_minor": 2
}
